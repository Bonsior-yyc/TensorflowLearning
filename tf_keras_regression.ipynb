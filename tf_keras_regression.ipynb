{
 "cells": [
  {
   "cell_type": "code",
   "execution_count": 1,
   "metadata": {
    "collapsed": true,
    "pycharm": {
     "is_executing": false
    }
   },
   "outputs": [
    {
     "name": "stdout",
     "text": [
      "2.1.0\n",
      "numpy 1.18.1\n",
      "sklearn 0.22.1\n",
      "tensorflow_core.python.keras.api._v2.keras 2.2.4-tf\n",
      "pandas 1.0.1\n"
     ],
     "output_type": "stream"
    }
   ],
   "source": [
    "import matplotlib.pyplot as plt\n",
    "import numpy as np\n",
    "import os\n",
    "import sys\n",
    "import pandas as pd\n",
    "import time\n",
    "import sklearn\n",
    "import tensorflow as tf\n",
    "\n",
    "print(tf.__version__)\n",
    "\n",
    "for module in np, sklearn, tf.keras, pd:\n",
    "    print(module.__name__, module.__version__)"
   ]
  },
  {
   "cell_type": "code",
   "execution_count": null,
   "outputs": [],
   "source": [
    "from sklearn.datasets import fetch_california_housing\n",
    "housing = fetch_california_housing()\n",
    "print(housing.DESCR)\n",
    "print(housing.data.shape)\n",
    "print(housing.target.shape)"
   ],
   "metadata": {
    "collapsed": false,
    "pycharm": {
     "name": "#%%\n",
     "is_executing": true
    }
   }
  },
  {
   "cell_type": "code",
   "execution_count": null,
   "outputs": [],
   "source": [
    "import pprint\n",
    "pprint.pprint(housing.data[0:5])\n",
    "pprint.pprint(housing.target[0:5])"
   ],
   "metadata": {
    "collapsed": false,
    "pycharm": {
     "name": "#%%\n",
     "is_executing": true
    }
   }
  },
  {
   "cell_type": "code",
   "execution_count": null,
   "outputs": [],
   "source": [
    "from sklearn.model_selection import train_test_split\n",
    "x_train, x_test, y_train, y_test = train_test_split(housing.data, housing.target, random_state=7)\n",
    "x_train, x_valid, y_train, y_valid = train_test_split(x_train, y_train, random_state=11)\n",
    "print(x_train.shape, y_train.shape)\n",
    "print(x_valid.shape, y_valid.shape)\n",
    "print(x_test.shape, y_test.shape)"
   ],
   "metadata": {
    "collapsed": false,
    "pycharm": {
     "name": "#%%\n",
     "is_executing": true
    }
   }
  },
  {
   "cell_type": "code",
   "execution_count": null,
   "outputs": [],
   "source": [
    "from sklearn.preprocessing import StandardScaler\n",
    "scaler = StandardScaler()\n",
    "x_train_scalered = scaler.fit_transform(x_train)\n",
    "x_valid_scalered = scaler.transform(x_valid)\n",
    "x_test_scalered = scaler.transform(x_test)\n",
    "print(x_train_scalered.shape)\n",
    "print(len(x_train_scalered.shape))\n",
    "print(type(x_train_scalered))"
   ],
   "metadata": {
    "collapsed": false,
    "pycharm": {
     "name": "#%%\n",
     "is_executing": true
    }
   }
  },
  {
   "cell_type": "code",
   "execution_count": null,
   "outputs": [],
   "source": [
    "# class Net(tf.keras.Model):\n",
    "#     def __init__(self):\n",
    "#         super(Net, self).__init__()\n",
    "#         \n",
    "#         self.hidden1_layer = tf.keras.layers.Dense(30, activation='relu')\n",
    "#         self.hidden2_layer = tf.keras.layers.Dense(30, activation='relu')\n",
    "#         self.output_layer = tf.keras.layers.Dense(1)\n",
    "#         \n",
    "#     def call(self, inputs, training=None, mask=None):\n",
    "#         hid1 = self.hidden1_layer(inputs)\n",
    "#         hid2 = self.hidden2_layer(hid1)\n",
    "#         concat = tf.keras.layers.concatenate([inputs, hid2])\n",
    "#         output = self.output_layer(concat)\n",
    "#         return output\n",
    "        \n",
    "def build_model(hidden_layers = 1, layer_size = 30, learning_rate = 1e-3):\n",
    "    model = tf.keras.models.Sequential()\n",
    "    model.add(tf.keras.layers.Dense(layer_size, activation='relu', input_shape=x_train.shape[1:]))\n",
    "    for _ in range(hidden_layers):\n",
    "        model.add(tf.keras.layers.Dense(layer_size, activation='relu'))\n",
    "    model.add(tf.keras.layers.Dense(1))\n",
    "    optimizer = tf.keras.optimizers.SGD(learning_rate)\n",
    "    model.compile(loss='mse', optimizer=optimizer)\n",
    "    return model\n",
    "\n",
    "callbacks = [tf.keras.callbacks.EarlyStopping(patience=5, min_delta=1e-2)]\n",
    "sklearn_model = tf.keras.wrappers.scikit_learn.KerasRegressor(build_model)\n",
    "\n",
    "# history = sklearn_model.fit(x_train_scalered, y_train, epochs=100, validation_data=(x_valid_scalered, y_valid), callbacks=callbacks)\n",
    "\n",
    "    \n",
    "    \n",
    "\n",
    "#         \n",
    "# histories = []\n",
    "# for lr in [1e-4, 3e-4, 1e-3, 3e-3, 1e-2, 3e-2]:\n",
    "#     model = Net()\n",
    "#     optimizer =tf.keras.optimizers.SGD(lr)\n",
    "#     model.build(input_shape=(None,8))\n",
    "#     model.compile(loss='mean_squared_error', optimizer=optimizer, metrics=['accuracy'])\n",
    "#     callbacks = [tf.keras.callbacks.EarlyStopping(patience=5, min_delta=1e-2)]\n",
    "#     history = model.fit(x_train_scalered, y_train, validation_data=(x_valid_scalered, y_valid), epochs=100, callbacks=callbacks)\n",
    "#     histories.append(history)\n",
    "# print(histories)\n",
    "\n",
    "\n",
    "\n",
    "# inputs = tf.keras.Input(shape=x_train_scalered.shape[1:])\n",
    "# hidden1 = tf.keras.layers.Dense(30, activation='relu')(inputs)\n",
    "# hidden2 = tf.keras.layers.Dense(30, activation='relu')(hidden1)\n",
    "# \n",
    "# concat = tf.keras.layers.concatenate([inputs, hidden2])\n",
    "# output = tf.keras.layers.Dense(1)(concat)\n",
    "# \n",
    "# model = tf.keras.models.Model([inputs], [output])\n",
    "\n",
    "\n",
    "# model = tf.keras.models.Sequential([\n",
    "#     tf.keras.layers.Dense(30, activation='relu', input_shape=x_train_scalered.shape[1:]),\n",
    "#     tf.keras.layers.Dense(1)\n",
    "# ])\n",
    "\n",
    "# model.summary()\n",
    "\n",
    "\n",
    "# def plot_lerning_curves(history):\n",
    "#     pd.DataFrame(history.history).plot(figsize=(8, 5))\n",
    "#     plt.grid(True)\n",
    "#     plt.gca().set_ylim(0, 1)\n",
    "#     plt.show()\n",
    "# \n",
    "# plot_lerning_curves(history)"
   ],
   "metadata": {
    "collapsed": false,
    "pycharm": {
     "name": "#%%\n",
     "is_executing": true
    }
   }
  },
  {
   "cell_type": "code",
   "execution_count": null,
   "outputs": [],
   "source": [
    "# model.evaluate(x_test_scalered, y_test, verbose=2)\n",
    "from scipy.stats import reciprocal\n",
    "\n",
    "param_distribution = {\n",
    "    \"hidden_layers\" : [1, 2, 3, 4],\n",
    "    \"layer_size\" : np.arange(1,20),\n",
    "    \"learning_rate\" : reciprocal(1e-4, 1e-2),\n",
    "}\n",
    "\n",
    "from sklearn.model_selection import RandomizedSearchCV\n",
    "\n",
    "random_search_cv = RandomizedSearchCV(sklearn_model, param_distribution, n_iter=10, cv=3, n_jobs=1)\n",
    "random_search_cv.fit(x_train_scalered, y_train, epochs=100, validation_data=(x_valid_scalered, y_valid), callbacks=callbacks)"
   ],
   "metadata": {
    "collapsed": false,
    "pycharm": {
     "name": "#%%\n",
     "is_executing": true
    }
   }
  }
 ],
 "metadata": {
  "kernelspec": {
   "display_name": "Python 3",
   "language": "python",
   "name": "python3"
  },
  "language_info": {
   "codemirror_mode": {
    "name": "ipython",
    "version": 2
   },
   "file_extension": ".py",
   "mimetype": "text/x-python",
   "name": "python",
   "nbconvert_exporter": "python",
   "pygments_lexer": "ipython2",
   "version": "2.7.6"
  },
  "pycharm": {
   "stem_cell": {
    "cell_type": "raw",
    "source": [],
    "metadata": {
     "collapsed": false
    }
   }
  }
 },
 "nbformat": 4,
 "nbformat_minor": 0
}