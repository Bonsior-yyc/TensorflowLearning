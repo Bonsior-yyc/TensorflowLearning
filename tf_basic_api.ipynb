{
 "cells": [
  {
   "cell_type": "code",
   "execution_count": 2,
   "metadata": {
    "collapsed": true,
    "pycharm": {
     "is_executing": false
    }
   },
   "outputs": [
    {
     "name": "stdout",
     "text": [
      "tensorflow 2.0.0\n",
      "numpy 1.17.4\n",
      "sklearn 0.20.0\n",
      "tensorflow_core.keras 2.2.4-tf\n",
      "pandas 0.25.3\n"
     ],
     "output_type": "stream"
    }
   ],
   "source": [
    "import matplotlib.pyplot as plt\n",
    "import numpy as np\n",
    "import os\n",
    "import sys\n",
    "import pandas as pd\n",
    "import time\n",
    "import sklearn\n",
    "import tensorflow as tf\n",
    "\n",
    "for module in tf, np, sklearn, tf.keras, pd:\n",
    "    print(module.__name__, module.__version__)\n"
   ]
  },
  {
   "cell_type": "code",
   "execution_count": 2,
   "outputs": [
    {
     "name": "stdout",
     "text": [
      "tf.Tensor(\n",
      "[[1. 2. 3.]\n",
      " [4. 5. 6.]], shape=(2, 3), dtype=float32)\n",
      "tf.Tensor([1. 2.], shape=(2,), dtype=float32)\n",
      "tf.Tensor([2. 5.], shape=(2,), dtype=float32)\n"
     ],
     "output_type": "stream"
    }
   ],
   "source": [
    "#常量\n",
    "t = tf.constant([[1., 2., 3.],[4., 5., 6.]])\n",
    "print(t)\n",
    "print(t[0,0:2])\n",
    "print(t[...,1])\n"
   ],
   "metadata": {
    "collapsed": false,
    "pycharm": {
     "name": "#%%\n",
     "is_executing": false
    }
   }
  },
  {
   "cell_type": "code",
   "execution_count": 3,
   "outputs": [
    {
     "name": "stdout",
     "text": [
      "tf.Tensor(\n",
      "[[11. 12. 13.]\n",
      " [14. 15. 16.]], shape=(2, 3), dtype=float32)\n",
      "tf.Tensor(\n",
      "[[ 1.  4.  9.]\n",
      " [16. 25. 36.]], shape=(2, 3), dtype=float32)\n",
      "tf.Tensor(\n",
      "[[14. 32.]\n",
      " [32. 77.]], shape=(2, 2), dtype=float32)\n"
     ],
     "output_type": "stream"
    }
   ],
   "source": [
    "#算子操作\n",
    "print(t + 10)\n",
    "print(tf.square(t))\n",
    "print(t @ tf.transpose(t))"
   ],
   "metadata": {
    "collapsed": false,
    "pycharm": {
     "name": "#%%\n",
     "is_executing": false
    }
   }
  },
  {
   "cell_type": "code",
   "execution_count": 4,
   "outputs": [
    {
     "name": "stdout",
     "text": [
      "[[1. 2. 3.]\n",
      " [4. 5. 6.]]\n",
      "[[ 1.  4.  9.]\n",
      " [16. 25. 36.]]\n",
      "tf.Tensor(\n",
      "[[1. 2. 3.]\n",
      " [4. 5. 6.]], shape=(2, 3), dtype=float64)\n"
     ],
     "output_type": "stream"
    }
   ],
   "source": [
    "# numpy\n",
    "print(t.numpy())\n",
    "print(np.square(t))\n",
    "np_t = np.array([[1., 2., 3.],[4., 5., 6.]])\n",
    "print(tf.constant(np_t))"
   ],
   "metadata": {
    "collapsed": false,
    "pycharm": {
     "name": "#%%\n",
     "is_executing": false
    }
   }
  },
  {
   "cell_type": "code",
   "execution_count": 5,
   "outputs": [
    {
     "name": "stdout",
     "text": [
      "2.718\n",
      "()\n"
     ],
     "output_type": "stream"
    }
   ],
   "source": [
    "#scaler\n",
    "t = tf.constant(2.718)\n",
    "print(t.numpy())\n",
    "print(t.shape)"
   ],
   "metadata": {
    "collapsed": false,
    "pycharm": {
     "name": "#%%\n",
     "is_executing": false
    }
   }
  },
  {
   "cell_type": "code",
   "execution_count": 6,
   "outputs": [
    {
     "name": "stdout",
     "text": [
      "tf.Tensor(b'hello world', shape=(), dtype=string)\n",
      "tf.Tensor(11, shape=(), dtype=int32)\n",
      "tf.Tensor(11, shape=(), dtype=int32)\n",
      "tf.Tensor([104 101 108 108 111  32 119 111 114 108 100], shape=(11,), dtype=int32)\n"
     ],
     "output_type": "stream"
    }
   ],
   "source": [
    "# string\n",
    "t = tf.constant(\"hello world\")\n",
    "print(t)\n",
    "print(tf.strings.length(t))\n",
    "print(tf.strings.length(t, unit='UTF8_CHAR'))\n",
    "print(tf.strings.unicode_decode(t, \"UTF8\"))"
   ],
   "metadata": {
    "collapsed": false,
    "pycharm": {
     "name": "#%%\n",
     "is_executing": false
    }
   }
  },
  {
   "cell_type": "code",
   "source": [
    "# string array\n",
    "t = tf.constant([\"cafe\", \"coffee\", \"咖啡\"])\n",
    "print(tf.strings.length(t, unit=\"UTF8_CHAR\"))\n",
    "print(tf.strings.unicode_decode(t, \"UTF8\"))"
   ],
   "metadata": {
    "collapsed": false,
    "pycharm": {
     "name": "#%% \n",
     "is_executing": false
    }
   },
   "execution_count": 7,
   "outputs": [
    {
     "name": "stdout",
     "text": [
      "tf.Tensor([4 6 2], shape=(3,), dtype=int32)\n",
      "<tf.RaggedTensor [[99, 97, 102, 101], [99, 111, 102, 102, 101, 101], [21654, 21857]]>\n"
     ],
     "output_type": "stream"
    }
   ]
  },
  {
   "cell_type": "code",
   "execution_count": 8,
   "outputs": [
    {
     "name": "stdout",
     "text": [
      "<tf.RaggedTensor [[1, 2, 3], [1, 2], [], [41]]>\n",
      "tf.Tensor([1 2], shape=(2,), dtype=int32)\n",
      "<tf.RaggedTensor [[1, 2], []]>\n",
      "tf.Tensor(2, shape=(), dtype=int32)\n"
     ],
     "output_type": "stream"
    }
   ],
   "source": [
    "# ragged tensor\n",
    "t = tf.ragged.constant([[1, 2, 3], [1, 2], [], [41]])\n",
    "print(t)\n",
    "print(t[1])\n",
    "print(t[1:3])\n",
    "print(t[1,1])"
   ],
   "metadata": {
    "collapsed": false,
    "pycharm": {
     "name": "#%%\n",
     "is_executing": false
    }
   }
  },
  {
   "cell_type": "code",
   "execution_count": 9,
   "outputs": [
    {
     "name": "stdout",
     "text": [
      "<tf.RaggedTensor [[1, 2, 3], [1, 2], [], [41], [51, 52], [], [2], []]>\n",
      "<tf.RaggedTensor [[51, 52, 1, 2, 3], [1, 2], [2], [41]]>\n"
     ],
     "output_type": "stream"
    }
   ],
   "source": [
    "# ops on ragged tensor\n",
    "r = tf.ragged.constant([[51, 52], [], [2], []])\n",
    "print(tf.concat([t, r], axis=0))\n",
    "print(tf.concat([r, t], axis=1))"
   ],
   "metadata": {
    "collapsed": false,
    "pycharm": {
     "name": "#%%\n",
     "is_executing": false
    }
   }
  },
  {
   "cell_type": "code",
   "execution_count": 10,
   "outputs": [
    {
     "name": "stdout",
     "text": [
      "tf.Tensor(\n",
      "[[ 1  2  3]\n",
      " [ 1  2  0]\n",
      " [ 0  0  0]\n",
      " [41  0  0]], shape=(4, 3), dtype=int32)\n"
     ],
     "output_type": "stream"
    }
   ],
   "source": [
    "# ragged to normal\n",
    "print(t.to_tensor())"
   ],
   "metadata": {
    "collapsed": false,
    "pycharm": {
     "name": "#%%\n",
     "is_executing": false
    }
   }
  },
  {
   "cell_type": "code",
   "execution_count": 11,
   "outputs": [
    {
     "name": "stdout",
     "text": [
      "SparseTensor(indices=tf.Tensor(\n",
      "[[0 1]\n",
      " [1 0]\n",
      " [2 3]], shape=(3, 2), dtype=int64), values=tf.Tensor([1. 2. 3.], shape=(3,), dtype=float32), dense_shape=tf.Tensor([3 4], shape=(2,), dtype=int64))\n",
      "tf.Tensor(\n",
      "[[0. 1. 0. 0.]\n",
      " [2. 0. 0. 0.]\n",
      " [0. 0. 0. 3.]], shape=(3, 4), dtype=float32)\n",
      "tf.Tensor(\n",
      "[[0. 2. 0. 0.]\n",
      " [1. 0. 0. 0.]\n",
      " [0. 0. 0. 3.]], shape=(3, 4), dtype=float32)\n"
     ],
     "output_type": "stream"
    }
   ],
   "source": [
    "# sparse tensor\n",
    "s = tf.SparseTensor(indices=[[0, 1], [1, 0], [2, 3]], values=[1., 2., 3.], dense_shape=[3, 4])\n",
    "print(s)\n",
    "print(tf.sparse.to_dense(s))\n",
    "s = tf.SparseTensor(indices=[[1, 0], [0, 1], [2, 3]], values=[1., 2., 3.], dense_shape=[3, 4])\n",
    "s = tf.sparse.reorder(s)\n",
    "print(tf.sparse.to_dense(s))"
   ],
   "metadata": {
    "collapsed": false,
    "pycharm": {
     "name": "#%%\n",
     "is_executing": false
    }
   }
  },
  {
   "cell_type": "code",
   "execution_count": 12,
   "outputs": [
    {
     "name": "stdout",
     "text": [
      "SparseTensor(indices=tf.Tensor(\n",
      "[[0 1]\n",
      " [1 0]\n",
      " [2 3]], shape=(3, 2), dtype=int64), values=tf.Tensor([4. 2. 6.], shape=(3,), dtype=float32), dense_shape=tf.Tensor([3 4], shape=(2,), dtype=int64))\n",
      "unsupported operand type(s) for +: 'SparseTensor' and 'int'\n",
      "tf.Tensor(\n",
      "[[120. 160.]\n",
      " [ 20.  40.]\n",
      " [420. 480.]], shape=(3, 2), dtype=float32)\n"
     ],
     "output_type": "stream"
    }
   ],
   "source": [
    "# Ops on sparse tensor\n",
    "s2 = s * 2.0\n",
    "print(s2)\n",
    "try:\n",
    "    s3 = s + 1 \n",
    "except TypeError as ex:\n",
    "    print(ex)\n",
    "\n",
    "s4 = tf.constant([[10., 20.], [30., 40.], [50., 60.], [70., 80.]])\n",
    "print(tf.sparse.sparse_dense_matmul(s2, s4))"
   ],
   "metadata": {
    "collapsed": false,
    "pycharm": {
     "name": "#%%\n",
     "is_executing": false
    }
   }
  },
  {
   "cell_type": "code",
   "execution_count": 13,
   "outputs": [
    {
     "name": "stdout",
     "text": [
      "tf.Tensor(\n",
      "[[1. 2. 3.]\n",
      " [4. 5. 6.]], shape=(2, 3), dtype=float32)\n",
      "[[1. 2. 3.]\n",
      " [4. 5. 6.]]\n"
     ],
     "output_type": "stream"
    }
   ],
   "source": [
    "# 变量\n",
    "v = tf.Variable([[1., 2., 3.], [4., 5., 6.]])\n",
    "print(v.value())\n",
    "print(v.numpy())"
   ],
   "metadata": {
    "collapsed": false,
    "pycharm": {
     "name": "#%%\n",
     "is_executing": false
    }
   }
  },
  {
   "cell_type": "code",
   "execution_count": 15,
   "outputs": [
    {
     "name": "stdout",
     "text": [
      "[[ 4.  6. 12.]\n",
      " [14. 16. 18.]]\n",
      "[[ 4.  3. 12.]\n",
      " [14. 16. 18.]]\n",
      "[[ 4.  3. 12.]\n",
      " [ 7.  8.  9.]]\n",
      "'ResourceVariable' object does not support item assignment\n"
     ],
     "output_type": "stream"
    }
   ],
   "source": [
    "# assign value\n",
    "v.assign(2 * v)\n",
    "print(v.numpy())\n",
    "\n",
    "v[0, 1].assign(3)\n",
    "print(v.numpy())\n",
    "\n",
    "v[1].assign([7., 8., 9.])\n",
    "print(v.numpy())\n",
    "\n",
    "try:\n",
    "    v[1] = [7, 8, 9]\n",
    "except TypeError as ex:\n",
    "    print(ex)"
   ],
   "metadata": {
    "collapsed": false,
    "pycharm": {
     "name": "#%%\n",
     "is_executing": false
    }
   }
  },
  {
   "cell_type": "code",
   "execution_count": null,
   "outputs": [],
   "source": [
    "# 自定义loss_fn\n",
    "def mse(y, pred):\n",
    "    return tf.reduce_mean(tf.square(y - pred))"
   ],
   "metadata": {
    "collapsed": false,
    "pycharm": {
     "name": "#%%\n"
    }
   }
  },
  {
   "cell_type": "code",
   "execution_count": null,
   "outputs": [],
   "source": [
    "# 自定义layer\n",
    "\n",
    "class Customlized_layer(tf.keras.layers.Layer):\n",
    "    def __init__(self, units, activation=None, **kwargs):\n",
    "        self.units = units\n",
    "        self.activation = tf.keras.layers.Activation(activation)\n",
    "        super(Customlized_layer, self).__init__()\n",
    "        \n",
    "    def build(self, input_shape):\n",
    "        self.kernel = self.add_weight(name='kernel', \n",
    "                                      shape=(input_shape[1], self.units),\n",
    "                                      initializer='uniform',\n",
    "                                      trainable=True)\n",
    "        self.bias = self.add_weight(name='bias', \n",
    "                                      shape=(self.units, ),\n",
    "                                      initializer='zeros',\n",
    "                                      trainable=True)\n",
    "        super(Customlized_layer, self).build(input_shape)\n",
    "        \n",
    "    def call(self, inputs, **kwargs):\n",
    "        return self.activation(x @ self.kernel + self.bias)\n",
    "    "
   ],
   "metadata": {
    "collapsed": false,
    "pycharm": {
     "name": "#%%\n"
    }
   }
  },
  {
   "cell_type": "code",
   "execution_count": 4,
   "outputs": [
    {
     "name": "stdout",
     "text": [
      "[<tf.Tensor: id=22, shape=(), dtype=float32, numpy=5.0>, <tf.Tensor: id=27, shape=(), dtype=float32, numpy=27.0>]\n"
     ],
     "output_type": "stream"
    }
   ],
   "source": [
    "# 自定义求导\n",
    "def g(x1, x2):\n",
    "    return x1 * 5 + x2 **3\n",
    "\n",
    "x1 = tf.constant(2.0)\n",
    "x2 = tf.constant(3.0)\n",
    "with tf.GradientTape(persistent=True) as tape:\n",
    "    tape.watch(x1)\n",
    "    tape.watch(x2)\n",
    "    z = g(x1, x2)\n",
    "    \n",
    "dz_dx1dx2 = tape.gradient(z, [x1, x2])\n",
    "print(dz_dx1dx2)"
   ],
   "metadata": {
    "collapsed": false,
    "pycharm": {
     "name": "#%%\n",
     "is_executing": false
    }
   }
  }
 ],
 "metadata": {
  "kernelspec": {
   "display_name": "Python 3",
   "language": "python",
   "name": "python3"
  },
  "language_info": {
   "codemirror_mode": {
    "name": "ipython",
    "version": 2
   },
   "file_extension": ".py",
   "mimetype": "text/x-python",
   "name": "python",
   "nbconvert_exporter": "python",
   "pygments_lexer": "ipython2",
   "version": "2.7.6"
  },
  "pycharm": {
   "stem_cell": {
    "cell_type": "raw",
    "source": [],
    "metadata": {
     "collapsed": false
    }
   }
  }
 },
 "nbformat": 4,
 "nbformat_minor": 0
}